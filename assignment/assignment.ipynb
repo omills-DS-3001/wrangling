{
  "cells": [
    {
      "cell_type": "markdown",
      "id": "13ad028b-72b7-43ed-aa78-96fd4e518040",
      "metadata": {
        "id": "13ad028b-72b7-43ed-aa78-96fd4e518040"
      },
      "source": [
        "# Assignment: Data Wrangling\n",
        "## `! git clone https://github.com/DS3001/wrangling`\n",
        "## Do Q2, and one of Q1 or Q3."
      ]
    },
    {
      "cell_type": "code",
      "source": [
        "! git clone https://github.com/DS3001/wrangling\n"
      ],
      "metadata": {
        "id": "Ifk7KGIhh8ox",
        "outputId": "b464f046-d0c7-40ad-889c-9a1fe1e9a521",
        "colab": {
          "base_uri": "https://localhost:8080/"
        }
      },
      "id": "Ifk7KGIhh8ox",
      "execution_count": 1,
      "outputs": [
        {
          "output_type": "stream",
          "name": "stdout",
          "text": [
            "Cloning into 'wrangling'...\n",
            "remote: Enumerating objects: 75, done.\u001b[K\n",
            "remote: Counting objects: 100% (34/34), done.\u001b[K\n",
            "remote: Compressing objects: 100% (24/24), done.\u001b[K\n",
            "remote: Total 75 (delta 27), reused 10 (delta 10), pack-reused 41\u001b[K\n",
            "Receiving objects: 100% (75/75), 6.25 MiB | 19.88 MiB/s, done.\n",
            "Resolving deltas: 100% (33/33), done.\n"
          ]
        }
      ]
    },
    {
      "cell_type": "markdown",
      "id": "5735a4d4-8be8-433a-a351-70eb8002e632",
      "metadata": {
        "id": "5735a4d4-8be8-433a-a351-70eb8002e632"
      },
      "source": [
        "**Q1.** Open the \"tidy_data.pdf\" document in the repo, which is a paper called Tidy Data by Hadley Wickham.\n",
        "\n",
        "  1. Read the abstract. What is this paper about?\n",
        "  2. Read the introduction. What is the \"tidy data standard\" intended to accomplish?\n",
        "  3. Read the intro to section 2. What does this sentence mean: \"Like families, tidy datasets are all alike but every messy dataset is messy in its own way.\" What does this sentence mean: \"For a given dataset, it’s usually easy to figure out what are observations and what are variables, but it is surprisingly difficult to precisely define variables and observations in general.\"\n",
        "  4. Read Section 2.2. How does Wickham define values, variables, and observations?\n",
        "  5. How is \"Tidy Data\" defined in section 2.3?\n",
        "  6. Read the intro to Section 3 and Section 3.1. What are the 5 most common problems with messy datasets? Why are the data in Table 4 messy? What is \"melting\" a dataset?\n",
        "  7. Why, specifically, is table 11 messy but table 12 tidy and \"molten\"?\n",
        "  8. Read Section 6. What is the \"chicken-and-egg\" problem with focusing on tidy data? What does Wickham hope happens in the future with further work on the subject of data wrangling?"
      ]
    },
    {
      "cell_type": "markdown",
      "id": "da879ea7-8aac-48a3-b6c2-daea56d2e072",
      "metadata": {
        "id": "da879ea7-8aac-48a3-b6c2-daea56d2e072"
      },
      "source": [
        "**Q2.** This question provides some practice cleaning variables which have common problems.\n",
        "1. Numeric variable: For `./data/airbnb_hw.csv`, clean the `Price` variable as well as you can, and explain the choices you make. How many missing values do you end up with? (Hint: What happens to the formatting when a price goes over 999 dollars, say from 675 to 1,112?)\n",
        "2. Categorical variable: For the `./data/sharks.csv` data covered in the lecture, clean the \"Type\" variable as well as you can, and explain the choices you make.\n",
        "3. Dummy variable: For the pretrial data covered in the lecture, clean the `WhetherDefendantWasReleasedPretrial` variable as well as you can, and, in particular, replace missing values with `np.nan`.\n",
        "4. Missing values, not at random: For the pretrial data covered in the lecture, clean the `ImposedSentenceAllChargeInContactEvent` variable as well as you can, and explain the choices you make. (Hint: Look at the `SentenceTypeAllChargesAtConvictionInContactEvent` variable.)"
      ]
    },
    {
      "cell_type": "code",
      "source": [
        "import pandas as pd\n",
        "import numpy as np\n"
      ],
      "metadata": {
        "id": "IyONBDteiXPZ"
      },
      "id": "IyONBDteiXPZ",
      "execution_count": 63,
      "outputs": []
    },
    {
      "cell_type": "code",
      "source": [
        "\n",
        "# first mistake was not knowing my current directory to find the file\n",
        "import os\n",
        "os.getcwd()\n",
        "\n",
        "# after figuring that out all that was needed was to do was remove the commas for the thousands and\n",
        "# convert to numeric\n",
        "\n",
        "df = pd.read_csv(\"./wrangling/assignment/data/airbnb_hw.csv\")\n",
        "var = 'Price'\n",
        "df[var]=df[var].str.replace(',','')\n",
        "df[var] = pd.to_numeric(df[var],errors= 'coerce')\n",
        "# df[var].isnull()\n",
        "# print(df[var].unique())\n",
        "df.describe()\n"
      ],
      "metadata": {
        "id": "zH4rNTDr2-aN"
      },
      "id": "zH4rNTDr2-aN",
      "execution_count": null,
      "outputs": []
    },
    {
      "cell_type": "code",
      "source": [
        "\n",
        "\n",
        "#sharks now\n",
        "df = pd.read_csv(\"./wrangling/assignment/data/sharks.csv\", low_memory=False)\n",
        "df[\"Type\"].unique()\n",
        "var = \"Type\"\n",
        "\n",
        "#all unknowns i put into a nan because they didnt tell us anything useful\n",
        "df[var] = df[var].replace([\"Unconfirmed\",\"Invalid\",\"Questionable\",\"Under investigation\",\"Unverified\"], np.nan)\n",
        "\n",
        "#all of the different water related attacks I put into Water Accident so it could cover all of them\n",
        "df[var] = df[var].replace(['Sea Disaster', 'Boat','Boating','Boatomg', \"Watercraft\"],'Water Accident')\n",
        "print(df[var].unique())\n",
        "# for this one i decided to rename everything that I thought was in a similar catagory to the\n",
        "# same thing to make it much easier to read\n",
        "# I was very lucky that there were not to many types\n"
      ],
      "metadata": {
        "id": "I57YBmjB2_Rg",
        "outputId": "4f6f002a-f350-4881-eb0a-574560a83176",
        "colab": {
          "base_uri": "https://localhost:8080/"
        }
      },
      "id": "I57YBmjB2_Rg",
      "execution_count": 87,
      "outputs": [
        {
          "output_type": "stream",
          "name": "stdout",
          "text": [
            "['Unprovoked' 'Provoked' nan 'Water Accident']\n"
          ]
        }
      ]
    },
    {
      "cell_type": "code",
      "source": [
        "\n",
        "url = 'http://www.vcsc.virginia.gov/pretrialdataproject/October%202017%20Cohort_Virginia%20Pretrial%20Data%20Project_Deidentified%20FINAL%20Update_10272021.csv'\n",
        "df = pd.read_csv(url,low_memory=False)\n",
        "\n",
        "\n",
        "\n"
      ],
      "metadata": {
        "id": "OYps8B1j3mc2"
      },
      "id": "OYps8B1j3mc2",
      "execution_count": 88,
      "outputs": []
    },
    {
      "cell_type": "code",
      "source": [
        "var = \"WhetherDefendantWasReleasedPretrial\"\n",
        "\n",
        "print(df[var].describe())\n",
        "print(df[var].value_counts())\n",
        "#from the docs 9 was the unknown type\n",
        "df[var] = df[var].replace(9,np.nan)\n",
        "print(df[var].value_counts())\n"
      ],
      "metadata": {
        "id": "Cmw3zvFwo3-g",
        "outputId": "739c7339-691d-44fa-ff5b-4ae4cdc1c696",
        "colab": {
          "base_uri": "https://localhost:8080/",
          "height": 728
        }
      },
      "id": "Cmw3zvFwo3-g",
      "execution_count": 89,
      "outputs": [
        {
          "output_type": "stream",
          "name": "stdout",
          "text": [
            "count    22986.000000\n",
            "mean         0.845428\n",
            "std          0.477276\n",
            "min          0.000000\n",
            "25%          1.000000\n",
            "50%          1.000000\n",
            "75%          1.000000\n",
            "max          9.000000\n",
            "Name: WhetherDefendantWasReleasedPretrial, dtype: float64\n",
            "1    19154\n",
            "0     3801\n",
            "9       31\n",
            "Name: WhetherDefendantWasReleasedPretrial, dtype: int64\n",
            "1.0    19154\n",
            "0.0     3801\n",
            "Name: WhetherDefendantWasReleasedPretrial, dtype: int64\n"
          ]
        },
        {
          "output_type": "display_data",
          "data": {
            "text/plain": [
              "<Figure size 640x480 with 1 Axes>"
            ],
            "image/png": "[encoded data removed]"
          },
          "metadata": {}
        }
      ]
    },
    {
      "cell_type": "code",
      "source": [
        "\n",
        "var = \"ImposedSentenceAllChargeInContactEvent\"\n",
        "var2 =\"SentenceTypeAllChargesAtConvictionInContactEvent\"\n",
        "print(\"ImposedSentenceAllChargeInContactEvent \\n\",df[var].value_counts())\n",
        "print(\"SentenceTypeAllChargesAtConvictionInContactEvent \\n\",df[var2].value_counts())\n",
        "#codes 4 and 9 both were dissmissed or none effectivly being 0\n",
        "totalNA = df[var2].value_counts()[4]\n",
        "totalNA += df[var2].value_counts()[9]\n",
        "print(\"total NAs bc of SentenceTypeAllChargesAtConvictionInContactEvent\" ,totalNA)\n",
        "#I have chosed to treat these as 0 for the Imposed Scentence\n",
        "df[var] = df[var].replace(' ',0)\n",
        "df[var] = pd.to_numeric(df[var])\n",
        "print(\"New value Counts \\n\",df[var].value_counts())\n"
      ],
      "metadata": {
        "id": "-8_kVo7i4Jny",
        "outputId": "3dc12ff6-ad1d-494a-ebe1-d5165d7acbc8",
        "colab": {
          "base_uri": "https://localhost:8080/"
        }
      },
      "id": "-8_kVo7i4Jny",
      "execution_count": 90,
      "outputs": [
        {
          "output_type": "stream",
          "name": "stdout",
          "text": [
            "ImposedSentenceAllChargeInContactEvent \n",
            "                     9053\n",
            "0                   4953\n",
            "12                  1404\n",
            ".985626283367556    1051\n",
            "6                    809\n",
            "                    ... \n",
            "49.9712525667351       1\n",
            "57.0349075975359       1\n",
            "79.9260780287474       1\n",
            "42.1642710472279       1\n",
            "1.6570841889117        1\n",
            "Name: ImposedSentenceAllChargeInContactEvent, Length: 484, dtype: int64\n",
            "SentenceTypeAllChargesAtConvictionInContactEvent \n",
            " 4    8779\n",
            "0    8720\n",
            "1    4299\n",
            "2     914\n",
            "9     274\n",
            "Name: SentenceTypeAllChargesAtConvictionInContactEvent, dtype: int64\n",
            "total NAs bc of SentenceTypeAllChargesAtConvictionInContactEvent 9053\n",
            "New value Counts \n",
            " 0.000000     14006\n",
            "12.000000     1404\n",
            "0.985626      1051\n",
            "6.000000       809\n",
            "3.000000       787\n",
            "             ...  \n",
            "49.971253        1\n",
            "57.034908        1\n",
            "79.926078        1\n",
            "42.164271        1\n",
            "1.657084         1\n",
            "Name: ImposedSentenceAllChargeInContactEvent, Length: 483, dtype: int64\n"
          ]
        }
      ]
    },
    {
      "cell_type": "markdown",
      "id": "649494cd-cfd6-4f80-992a-9994fc19e1d5",
      "metadata": {
        "id": "649494cd-cfd6-4f80-992a-9994fc19e1d5"
      },
      "source": [
        "**Q3.** Many important datasets contain a race variable, typically limited to a handful of values often including Black, White, Asian, Latino, and Indigenous. This question looks at data gathering efforts on this variable by the U.S. Federal government.\n",
        "\n",
        "1. How did the most recent US Census gather data on race?\n",
        "2. Why do we gather these data? What role do these kinds of data play in politics and society? Why does data quality matter?\n",
        "3. Please provide a constructive criticism of how the Census was conducted: What was done well? What do you think was missing? How should future large scale surveys be adjusted to best reflect the diversity of the population? Could some of the Census' good practices be adopted more widely to gather richer and more useful data?\n",
        "4. How did the Census gather data on sex and gender? Please provide a similar constructive criticism of their practices.\n",
        "5. When it comes to cleaning data, what concerns do you have about protected characteristics like sex, gender, sexual identity, or race? What challenges can you imagine arising when there are missing values? What good or bad practices might people adopt, and why?\n",
        "6. Suppose someone invented an algorithm to impute values for protected characteristics like race, gender, sex, or sexuality. What kinds of concerns would you have?"
      ]
    },
    {
      "cell_type": "markdown",
      "source": [
        "1. The most recent US census gathered data on race based on self identification. This allowed for people to report more than one race group.\n",
        "2. We gather these types of data to see trends, underserved/overserved communities and to see where we should put our efforts. Quality data matters very much here because because it can affect societal notions and policy.\n",
        "3. I think that for when they gather data on race it is difficult because people are multisided and come from very diverse ethnic backgrounds. This leads to dual or more answers or other catagories that make understanding the data/cleaning the hard to do. I think that because of this it is hard to see empricaly which groups people fit in so maybe it would be better to give a wide variety of catagories to pick from so that people could fill out their exact race.\n",
        "4. One concern I have for potentially sensitive variables is peoples willingness to answer correctly. Whether it be because of societal norms or other reasons people sometimes have a hard time answering truthfully if they feel that their answer is somehow wrong or against the norm. Good practices that have been adopted is to make data gathering anon and by adding the prefer not to answer options. This does lead to some more missing data but I think that because the option is there people may feel more comfortable and answer more truthfully. I also think that we need to continue with the practice of adding more options to choose from in an effort to properly describe the answers correctly."
      ],
      "metadata": {
        "id": "RlhXse08zBTv"
      },
      "id": "RlhXse08zBTv"
    },
    {
      "cell_type": "code",
      "source": [
        "! git"
      ],
      "metadata": {
        "id": "2QZBoFh35Fsz"
      },
      "id": "2QZBoFh35Fsz",
      "execution_count": null,
      "outputs": []
    }
  ],
  "metadata": {
    "colab": {
      "provenance": []
    },
    "kernelspec": {
      "display_name": "Python 3 (ipykernel)",
      "language": "python",
      "name": "python3"
    },
    "language_info": {
      "codemirror_mode": {
        "name": "ipython",
        "version": 3
      },
      "file_extension": ".py",
      "mimetype": "text/x-python",
      "name": "python",
      "nbconvert_exporter": "python",
      "pygments_lexer": "ipython3",
      "version": "3.10.4"
    }
  },
  "nbformat": 4,
  "nbformat_minor": 5
}